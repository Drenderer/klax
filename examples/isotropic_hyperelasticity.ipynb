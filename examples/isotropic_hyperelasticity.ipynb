{
 "cells": [
  {
   "cell_type": "markdown",
   "id": "a5c35e4f",
   "metadata": {},
   "source": [
    "# Isotropic Hyperelasticity\n",
    "\n",
    "[![Open in Colab](https://colab.research.google.com/assets/colab-badge.svg)](https://colab.sandbox.google.com/github/Drenderer/klax/blob/main/examples/isotropic_hyperelasticity.ipynb)\n",
    "\n",
    "This notebook trains an isotropic, hyperelastic material model using a physics-augmented neural network (PANN) according to [Linden et al. (2023)](https://doi.org/10.1016/j.jmps.2023.105363) on Treloar's data.\n",
    "\n",
    "To run it locally install the `klax` package with `pip`."
   ]
  }
 ],
 "metadata": {
  "language_info": {
   "name": "python"
  }
 },
 "nbformat": 4,
 "nbformat_minor": 5
}
