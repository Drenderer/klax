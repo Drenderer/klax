{
 "cells": [
  {
   "cell_type": "markdown",
   "execution_count": 0,
   "id": "a5c35e4f",
   "metadata": {
    "collapsed": false,
    "jupyter": {
     "outputs_hidden": false,
     "source_hidden": false
    }
   },
   "source": [
    "# Isotropic Hyperelasticity\n",
    "\n",
    "[![Open in Colab](https://colab.research.google.com/assets/colab-badge.svg)](https://colab.sandbox.google.com/github/Drenderer/klax/blob/main/docs/build/examples/isotropic_hyperelasticity.ipynb)\n",
    "\n",
    "This notebook implements and calibrates an neural network-based isotropic, incompressible hyperelastic material model to Treloar's experimental data using the method presented in [Dammaß et al. (2025)](https://doi.org/10.48550/arXiv.2503.20598). It showcases the basic use of `klax`'s input covex neural network (`FICNN`) and `klax.fit()` function for building and calibrating physics-augmented neural network models.\n",
    "\n",
    "To run it locally install klax with plotting capability via `pip install 'klax[plot]'`.\n",
    "\n",
    "We start by importing the required packages for model creation, optimization and plotting. We also import some type aliases and import the `dataclass` module for some simple data handling."
   ]
  },
  {
   "cell_type": "code",
   "execution_count": 1,
   "id": "bd4103e5",
   "metadata": {
    "collapsed": false,
    "jupyter": {
     "outputs_hidden": false,
     "source_hidden": false
    }
   },
   "outputs": [],
   "source": [
    "from dataclasses import dataclass\n",
    "\n",
    "import equinox as eqx\n",
    "import klax\n",
    "import jax\n",
    "import jax.numpy as jnp\n",
    "import jax.random as jrandom\n",
    "from jaxtyping import Array, Float\n",
    "from matplotlib import pyplot as plt\n",
    "import optax"
   ]
  },
  {
   "cell_type": "markdown",
   "id": "58d1e5e0",
   "metadata": {
    "collapsed": false,
    "jupyter": {
     "outputs_hidden": false,
     "source_hidden": false
    }
   },
   "source": [
    "We start by defining a basic class `LoadCase`. It consists of an array of princible stretches `stretch` with shape `(dim, 3)` and the (1,1) component of the first Piola-Kirchhoff stress tensor with shape `(dim, 1)`, where `dim` denotes the number of data points in the load case. We also define a descriptive `title`, which will be used for plotting later on."
   ]
  },
  {
   "cell_type": "code",
   "execution_count": 2,
   "id": "f223f806",
   "metadata": {
    "collapsed": false,
    "jupyter": {
     "outputs_hidden": false,
     "source_hidden": false
    }
   },
   "outputs": [],
   "source": [
    "@dataclass\n",
    "class LoadCase:\n",
    "    \"\"\"A simple load case.\"\"\"\n",
    "    stretch: Float[Array, \"dim 3\"]\n",
    "    pk11_stress: Float[Array, \"dim 1\"]\n",
    "    title: str"
   ]
  },
  {
   "cell_type": "markdown",
   "id": "89a41d7d",
   "metadata": {
    "collapsed": false,
    "jupyter": {
     "outputs_hidden": false,
     "source_hidden": false
    }
   },
   "source": [
    "In the following, three load cases for *uniaxial tension*, *biaxial tension*, and *pure shear* are created. The data corresponds to Treloar`s experimental results, which were obtained from testing of a rubber material."
   ]
  },
  {
   "cell_type": "code",
   "execution_count": 3,
   "id": "8d422876",
   "metadata": {
    "collapsed": false,
    "jupyter": {
     "outputs_hidden": false,
     "source_hidden": false
    }
   },
   "outputs": [],
   "source": [
    "# Uniaxial load case\n",
    "stretch_1 = jnp.array([1., 1.01, 1.12, 1.24, 1.39, 1.61, 1.89, 2.17, 2.42, 3.01, 3.58, 4.03, 4.76, 5.36, 5.76, 6.16, 6.4, 6.62, 6.87, 7.05, 7.16, 7.27, 7.43, 7.5, 7.61])\n",
    "pk11_stress = jnp.array([0., 0.03, 0.14, 0.23, 0.32, 0.41, 0.5, 0.58, 0.67, 0.85, 1.04, 1.21, 1.58, 1.94, 2.29, 2.67, 3.02, 3.39, 3.75, 4.12, 4.47, 4.85, 5.21, 5.57, 6.3])\n",
    "stretch = jnp.stack([stretch_1, stretch_1**(-0.5), stretch_1**(-0.5)], axis=-1)\n",
    "\n",
    "uniaxial = LoadCase(stretch, pk11_stress, \"Uniaxial tension\")\n",
    "\n",
    "# Biaxial load case\n",
    "stretch_1 = jnp.array([1., 1.04, 1.08, 1.12, 1.14, 1.2, 1.31, 1.42, 1.69, 1.94, 2.49, 3.03, 3.43, 3.75, 4.03, 4.26, 4.44])\n",
    "pk11_stress = jnp.array([0., 0.09, 0.16, 0.24, 0.26, 0.33, 0.44, 0.51, 0.65, 0.77, 0.96, 1.24, 1.45, 1.72, 1.96, 2.22, 2.43])\n",
    "stretch = jnp.stack([stretch_1, stretch_1, stretch_1**(-2)], axis=-1)\n",
    "\n",
    "biaxial = LoadCase(stretch, pk11_stress, \"Biaxial tension\")\n",
    "\n",
    "# Pure shear load case\n",
    "stretch_1 = jnp.array([1., 1.06, 1.14, 1.21, 1.32, 1.46, 1.87, 2.4, 2.98, 3.48, 3.96, 4.36, 4.69, 4.96])\n",
    "pk11_stress = jnp.array([0., 0.07, 0.16, 0.24, 0.33, 0.42, 0.59, 0.76, 0.93, 1.11, 1.28, 1.46, 1.62, 1.79])\n",
    "stretch = jnp.stack([stretch_1, jnp.ones_like(stretch_1), stretch_1**(-1)], axis=-1)\n",
    "\n",
    "pure_shear = LoadCase(stretch, pk11_stress, \"Pure shear\")"
   ]
  },
  {
   "cell_type": "markdown",
   "id": "0cc13f0e",
   "metadata": {
    "collapsed": false,
    "jupyter": {
     "outputs_hidden": false,
     "source_hidden": false
    }
   },
   "source": [
    "Next, the neural network-based isotropic, incompressible hyperelastic material model according to Dammaß et al. is implemented."
   ]
  },
  {
   "cell_type": "code",
   "execution_count": 4,
   "id": "bcb671fd",
   "metadata": {
    "collapsed": false,
    "jupyter": {
     "outputs_hidden": false,
     "source_hidden": false
    }
   },
   "outputs": [],
   "source": [
    "class PANN(eqx.Module):\n",
    "    \"\"\"An neural-network based potential for incompressible hyperelasticity.\"\"\"\n",
    "    icnn: klax.nn.FICNN\n",
    "\n",
    "    def __init__(self, *, key):\n",
    "        self.icnn = klax.nn.FICNN(\n",
    "            2,\n",
    "            \"scalar\",\n",
    "            1 * [8],\n",
    "            use_passthrough=True,\n",
    "            non_decreasing=True,\n",
    "            key=key,\n",
    "        )\n",
    "\n",
    "    def __call__(self, stretch: Array) -> Array:\n",
    "        \"\"\"Evaluates the (1,1) compontent of the first Piola-Kirchhoff stress.\"\"\"\n",
    "        stress_coefficients = self.stress_coefficients(stretch)\n",
    "        return self.piola_kirchhoff_stress(stretch, stress_coefficients)\n",
    "        \n",
    "    def potential(self, isochoric_invariants: Array) -> Array:\n",
    "        \"\"\"Computed the hyperelastic potential with energy normalization.\"\"\"\n",
    "        # Compute normalization term for F = I\n",
    "        isochoric_invariants_iden = jnp.array([3, 4])\n",
    "        pot_iden = self.icnn(isochoric_invariants_iden)\n",
    "        return self.icnn(isochoric_invariants) - pot_iden\n",
    "\n",
    "    def isochoric_invariants(self, stretch: Array) -> Array:\n",
    "        \"\"\"Computes the isotropic, isochoric invariants.\"\"\"\n",
    "        i1 = stretch[0] ** 2 + stretch[1] ** 2 + stretch[2] ** 2\n",
    "        i2 = (\n",
    "            (stretch[0] * stretch[1]) ** 2\n",
    "            + (stretch[0] * stretch[2]) ** 2\n",
    "            + (stretch[1] * stretch[2]) ** 2\n",
    "        )\n",
    "        j = stretch[0] * stretch[1] * stretch[2]\n",
    "\n",
    "        i1_ = j**(-2/3) * i1\n",
    "        i2_ = j**(-4/3) * i2\n",
    "        return jnp.array([i1_, i2_])\n",
    "\n",
    "\n",
    "    def stress_coefficients(self, stretch: Array) -> Array:\n",
    "        \"\"\"Compoutes the gradient of the potential with respect to the\n",
    "        isochoric invariants, i.e., the stres coefficients.\n",
    "        \"\"\"\n",
    "        isochoric_invariants = self.isochoric_invariants(stretch)\n",
    "        return jax.grad(self.potential)(isochoric_invariants)\n",
    "\n",
    "    def piola_kirchhoff_stress(self, stretch: Array, stress_coefficients: Array):\n",
    "        \"\"\"Computes the (1,1) component of the Piola-Kirchoff stress from \n",
    "        stress coefficients.\n",
    "        \"\"\"\n",
    "        return 2.0 * (\n",
    "            stress_coefficients[0] * (stretch[0] - stretch[2]**2 * stretch[0]**(-1))\n",
    "            + stress_coefficients[1] * (\n",
    "                stretch[0] * (stretch[1]**2 + stretch[2]**2)\n",
    "                - stretch[2]**2 * stretch[0]**(-1) * (stretch[0]**2 + stretch[1]**2)\n",
    "            )\n",
    "        )"
   ]
  },
  {
   "cell_type": "markdown",
   "id": "eddd899d",
   "metadata": {
    "collapsed": false,
    "jupyter": {
     "outputs_hidden": false,
     "source_hidden": false
    }
   },
   "source": [
    "We choose the *uniaxial* and *biaxial* load cases as calibration data and fit the `PANN` model using `fit()` with the following arguments:\n",
    "\n",
    "The first argument corresponds to the model that shall be optimized. Its followed by the `data` argument, which could be any PyTree containing at least one Array. However, to use `klax`'s building loss functions the arguments must be of the form `(x, y)`, where both `x` and `y` are the input and output Array respectively.\n",
    "\n",
    "Next, we specify the number of samples per batch and the axis along which `x` and `y` shall be batched, by setting the `batch_size` and `batch_axis` arguments, respectively.\n",
    "\n",
    "A loss function is defined using the `loss_fn` argument.\n",
    "\n",
    "We can select an optimization algorithm by passing any `optax.GradientTransformation` object to the `optimizer` argument. Likewise we can pass a custom `Callback` to the `history` argument to record intermediate training results. In this case we are passing the default `HistoryCallback` with a value of `1000`, which ensures that loss-values are only computed after every 1000-th step, to reduce computational cost.\n",
    "\n",
    "Finally, a random `key` needs to be passed, which is used internally by the batch generation algorithm.\n",
    "\n",
    "If required, `fit()` delivers many more advanded capabilities such as passing validation data, defining custom batch axes/loss functions/batch generators as well as the use of `Callbacks` and optimizer states. See the documentation of `fit()` reference for the full list of options.\n",
    "\n",
    "After finishing calibration, the loss evluation can be plotted by calling the `HistoryCallback.plot()` method on our returne `history` object.\n"
   ]
  },
  {
   "cell_type": "code",
   "execution_count": 16,
   "id": "f979ea20",
   "metadata": {
    "collapsed": false,
    "jupyter": {
     "outputs_hidden": false,
     "source_hidden": false
    }
   },
   "outputs": [],
   "source": [
    "key = jrandom.PRNGKey(0)\n",
    "keys = jrandom.split(key, 2)\n",
    "\n",
    "model = PANN(key=keys[0])\n",
    "x = jnp.concatenate((uniaxial.stretch, biaxial.stretch), axis=0)\n",
    "y = jnp.concatenate((uniaxial.pk11_stress, biaxial.pk11_stress), axis=0)\n",
    "\n",
    "model, history = klax.fit(\n",
    "    model,\n",
    "    (x, y),\n",
    "    batch_size=32,\n",
    "    batch_axis=0,\n",
    "    steps=20_000,\n",
    "    loss_fn=klax.mse,\n",
    "    optimizer=optax.adam(2e-3),\n",
    "    history=klax.HistoryCallback(1000),\n",
    "    key=keys[1],\n",
    ")\n",
    "\n",
    "history.plot()"
   ]
  },
  {
   "cell_type": "markdown",
   "execution_count": 0,
   "id": "01611684",
   "metadata": {
    "collapsed": false,
    "jupyter": {
     "outputs_hidden": false,
     "source_hidden": false
    }
   },
   "source": [
    "A simple utility function is defined to `evaluate` the calibared `model` on a tuple of load cases. Here, the model is jit-compiled using `eqx.filter_jit()` in order to speed up evaluation for large amounts of data."
   ]
  },
  {
   "cell_type": "code",
   "execution_count": 12,
   "id": "e763fb29",
   "metadata": {
    "collapsed": false,
    "jupyter": {
     "outputs_hidden": false,
     "source_hidden": false
    }
   },
   "outputs": [],
   "source": [
    "def evaluate(model, load_cases: tuple[LoadCase, ...]):\n",
    "    model = eqx.filter_jit(model)\n",
    "    _, axs = plt.subplots(1, len(load_cases), figsize=(5 * len(load_cases), 5))\n",
    "\n",
    "    def plot(ax, x, y, y_pred, title):\n",
    "        ax.plot(x, y, \"x\", label=\"data\", color=\"black\")\n",
    "        ax.plot(x, y_pred, \"-\", label=\"data\", color=\"blue\")\n",
    "        ax.set_xlabel(r\"$\\lambda_1$\")\n",
    "        ax.set_ylabel(r\"$P_{11}$/ MPa\")\n",
    "        ax.set_title(title)\n",
    "\n",
    "    for ax, lc in zip(axs, load_cases):\n",
    "        pk11_stress_pred = jax.vmap(model)(lc.stretch)\n",
    "        plot(ax, lc.stretch[:, 0], lc.pk11_stress, pk11_stress_pred, lc.title)\n"
   ]
  },
  {
   "cell_type": "markdown",
   "id": "bc3aad42",
   "metadata": {
    "collapsed": false,
    "jupyter": {
     "outputs_hidden": false,
     "source_hidden": false
    }
   },
   "source": [
    "Finally, we evaluate the model on the two training cases (*uniaxial*, *biaxial*) and on the *pure shear* test case. Note, that the model needs to be made callable using `klax.finalize`, since the `FICNN` module contains parameters of type `Unwrappable`, which need to be unwrapped be for evaluation."
   ]
  },
  {
   "cell_type": "code",
   "execution_count": 15,
   "id": "eb790b37",
   "metadata": {
    "collapsed": false,
    "jupyter": {
     "outputs_hidden": false,
     "source_hidden": false
    }
   },
   "outputs": [],
   "source": [
    "model_ = klax.finalize(model)\n",
    "evaluate(model_, (uniaxial, biaxial, pure_shear))"
   ]
  },
  {
   "cell_type": "code",
   "execution_count": 0,
   "id": "08400fc7",
   "metadata": {
    "collapsed": false,
    "jupyter": {
     "outputs_hidden": false,
     "source_hidden": false
    }
   },
   "outputs": [],
   "source": []
  }
 ],
 "metadata": {
  "kernelspec": {
   "display_name": "Python 3 (ipykernel)",
   "language": "python",
   "name": "python3"
  },
  "language_info": {
   "codemirror_mode": {
    "name": "ipython",
    "version": 3
   },
   "file_extension": ".py",
   "mimetype": "text/x-python",
   "name": "python",
   "nbconvert_exporter": "python",
   "pygments_lexer": "ipython3",
   "version": "3.13.3"
  },
  "widgets": {
   "application/vnd.jupyter.widget-state+json": {
    "state": {},
    "version_major": 2,
    "version_minor": 0
   }
  }
 },
 "nbformat": 4,
 "nbformat_minor": 5
}
